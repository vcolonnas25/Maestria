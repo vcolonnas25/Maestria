{
  "cells": [
    {
      "cell_type": "markdown",
      "metadata": {
        "id": "Z_ffCoVxjNK4"
      },
      "source": [
        "![image info](https://raw.githubusercontent.com/albahnsen/MIAD_ML_and_NLP/main/images/banner_1.png)"
      ]
    },
    {
      "cell_type": "markdown",
      "metadata": {
        "id": "9f57vUdgjNK6"
      },
      "source": [
        "# Taller: Tokenización de textos  \n",
        "\n",
        "En este taller podrán poner en práctica sus conocimientos sobre preprocesamiento de texto (tokenización). El taller está constituido por 5 puntos, en los cuales deberan seguir las intrucciones de cada numeral para su desarrollo."
      ]
    },
    {
      "cell_type": "markdown",
      "metadata": {
        "id": "qEu-cgB3jNK7"
      },
      "source": [
        "## Datos detección de toxicidad en comentarios\n",
        "\n",
        "En este taller se usará el conjunto de datos de detección de toxicidad en comentarios de la base de datos de Kaggle. Cada observación es un comentario que tiene como variable objetivo (target) la probabilidad de ser un comentario tóxico. El objetivo es predecir la toxicidad de cada comentario. Para más detalles pueden visitar el siguiente enlace: [datos](https://www.kaggle.com/c/jigsaw-unintended-bias-in-toxicity-classification/data)."
      ]
    },
    {
      "cell_type": "code",
      "execution_count": 1,
      "metadata": {
        "id": "TPppGlb6jNK8"
      },
      "outputs": [],
      "source": [
        "import warnings\n",
        "warnings.filterwarnings('ignore')"
      ]
    },
    {
      "cell_type": "code",
      "execution_count": 2,
      "metadata": {
        "id": "wz1Q1GW9jNK-"
      },
      "outputs": [],
      "source": [
        "# Importación librerías\n",
        "import pandas as pd\n",
        "import numpy as np\n",
        "import scipy as sp\n",
        "from sklearn.model_selection import train_test_split, cross_val_score\n",
        "from sklearn.feature_extraction.text import CountVectorizer, TfidfVectorizer\n",
        "from sklearn import metrics\n",
        "%matplotlib inline"
      ]
    },
    {
      "cell_type": "code",
      "execution_count": 3,
      "metadata": {
        "colab": {
          "base_uri": "https://localhost:8080/",
          "height": 423
        },
        "id": "3WWJ0-3CjNK-",
        "outputId": "3297d1e7-4511-4996-8a67-00548a55a2da"
      },
      "outputs": [
        {
          "output_type": "execute_result",
          "data": {
            "text/plain": [
              "             id                                       comment_text    target\n",
              "0       6101457  What are you talking about? What group do Pete...  0.000000\n",
              "1       5342103   NO!, Let him, we need a Conservative government.  0.000000\n",
              "2        743361  Perhaps he took the \"power out of the Cardinal...  0.200000\n",
              "3        551008  As always, yours is dripping with sarcasm, whi...  0.000000\n",
              "4        865998  The dirty little secret is that the price rang...  0.300000\n",
              "...         ...                                                ...       ...\n",
              "541457  5370921  You wrote: \"Both parties campaigned explicitly...  0.000000\n",
              "541458  6331124  Nowadays. there sure seem to be a lot of credi...  0.200000\n",
              "541459  5465619  We are lucky wealth filters down to the poor i...  0.000000\n",
              "541460   474392  You are half right. Both nature and humans can...  0.000000\n",
              "541461  5913738  I don't know how you went from yelling at a fo...  0.514286\n",
              "\n",
              "[541462 rows x 3 columns]"
            ],
            "text/html": [
              "\n",
              "  <div id=\"df-be25b32d-a3b3-46db-996f-949f5a136bd0\">\n",
              "    <div class=\"colab-df-container\">\n",
              "      <div>\n",
              "<style scoped>\n",
              "    .dataframe tbody tr th:only-of-type {\n",
              "        vertical-align: middle;\n",
              "    }\n",
              "\n",
              "    .dataframe tbody tr th {\n",
              "        vertical-align: top;\n",
              "    }\n",
              "\n",
              "    .dataframe thead th {\n",
              "        text-align: right;\n",
              "    }\n",
              "</style>\n",
              "<table border=\"1\" class=\"dataframe\">\n",
              "  <thead>\n",
              "    <tr style=\"text-align: right;\">\n",
              "      <th></th>\n",
              "      <th>id</th>\n",
              "      <th>comment_text</th>\n",
              "      <th>target</th>\n",
              "    </tr>\n",
              "  </thead>\n",
              "  <tbody>\n",
              "    <tr>\n",
              "      <th>0</th>\n",
              "      <td>6101457</td>\n",
              "      <td>What are you talking about? What group do Pete...</td>\n",
              "      <td>0.000000</td>\n",
              "    </tr>\n",
              "    <tr>\n",
              "      <th>1</th>\n",
              "      <td>5342103</td>\n",
              "      <td>NO!, Let him, we need a Conservative government.</td>\n",
              "      <td>0.000000</td>\n",
              "    </tr>\n",
              "    <tr>\n",
              "      <th>2</th>\n",
              "      <td>743361</td>\n",
              "      <td>Perhaps he took the \"power out of the Cardinal...</td>\n",
              "      <td>0.200000</td>\n",
              "    </tr>\n",
              "    <tr>\n",
              "      <th>3</th>\n",
              "      <td>551008</td>\n",
              "      <td>As always, yours is dripping with sarcasm, whi...</td>\n",
              "      <td>0.000000</td>\n",
              "    </tr>\n",
              "    <tr>\n",
              "      <th>4</th>\n",
              "      <td>865998</td>\n",
              "      <td>The dirty little secret is that the price rang...</td>\n",
              "      <td>0.300000</td>\n",
              "    </tr>\n",
              "    <tr>\n",
              "      <th>...</th>\n",
              "      <td>...</td>\n",
              "      <td>...</td>\n",
              "      <td>...</td>\n",
              "    </tr>\n",
              "    <tr>\n",
              "      <th>541457</th>\n",
              "      <td>5370921</td>\n",
              "      <td>You wrote: \"Both parties campaigned explicitly...</td>\n",
              "      <td>0.000000</td>\n",
              "    </tr>\n",
              "    <tr>\n",
              "      <th>541458</th>\n",
              "      <td>6331124</td>\n",
              "      <td>Nowadays. there sure seem to be a lot of credi...</td>\n",
              "      <td>0.200000</td>\n",
              "    </tr>\n",
              "    <tr>\n",
              "      <th>541459</th>\n",
              "      <td>5465619</td>\n",
              "      <td>We are lucky wealth filters down to the poor i...</td>\n",
              "      <td>0.000000</td>\n",
              "    </tr>\n",
              "    <tr>\n",
              "      <th>541460</th>\n",
              "      <td>474392</td>\n",
              "      <td>You are half right. Both nature and humans can...</td>\n",
              "      <td>0.000000</td>\n",
              "    </tr>\n",
              "    <tr>\n",
              "      <th>541461</th>\n",
              "      <td>5913738</td>\n",
              "      <td>I don't know how you went from yelling at a fo...</td>\n",
              "      <td>0.514286</td>\n",
              "    </tr>\n",
              "  </tbody>\n",
              "</table>\n",
              "<p>541462 rows × 3 columns</p>\n",
              "</div>\n",
              "      <button class=\"colab-df-convert\" onclick=\"convertToInteractive('df-be25b32d-a3b3-46db-996f-949f5a136bd0')\"\n",
              "              title=\"Convert this dataframe to an interactive table.\"\n",
              "              style=\"display:none;\">\n",
              "        \n",
              "  <svg xmlns=\"http://www.w3.org/2000/svg\" height=\"24px\"viewBox=\"0 0 24 24\"\n",
              "       width=\"24px\">\n",
              "    <path d=\"M0 0h24v24H0V0z\" fill=\"none\"/>\n",
              "    <path d=\"M18.56 5.44l.94 2.06.94-2.06 2.06-.94-2.06-.94-.94-2.06-.94 2.06-2.06.94zm-11 1L8.5 8.5l.94-2.06 2.06-.94-2.06-.94L8.5 2.5l-.94 2.06-2.06.94zm10 10l.94 2.06.94-2.06 2.06-.94-2.06-.94-.94-2.06-.94 2.06-2.06.94z\"/><path d=\"M17.41 7.96l-1.37-1.37c-.4-.4-.92-.59-1.43-.59-.52 0-1.04.2-1.43.59L10.3 9.45l-7.72 7.72c-.78.78-.78 2.05 0 2.83L4 21.41c.39.39.9.59 1.41.59.51 0 1.02-.2 1.41-.59l7.78-7.78 2.81-2.81c.8-.78.8-2.07 0-2.86zM5.41 20L4 18.59l7.72-7.72 1.47 1.35L5.41 20z\"/>\n",
              "  </svg>\n",
              "      </button>\n",
              "      \n",
              "  <style>\n",
              "    .colab-df-container {\n",
              "      display:flex;\n",
              "      flex-wrap:wrap;\n",
              "      gap: 12px;\n",
              "    }\n",
              "\n",
              "    .colab-df-convert {\n",
              "      background-color: #E8F0FE;\n",
              "      border: none;\n",
              "      border-radius: 50%;\n",
              "      cursor: pointer;\n",
              "      display: none;\n",
              "      fill: #1967D2;\n",
              "      height: 32px;\n",
              "      padding: 0 0 0 0;\n",
              "      width: 32px;\n",
              "    }\n",
              "\n",
              "    .colab-df-convert:hover {\n",
              "      background-color: #E2EBFA;\n",
              "      box-shadow: 0px 1px 2px rgba(60, 64, 67, 0.3), 0px 1px 3px 1px rgba(60, 64, 67, 0.15);\n",
              "      fill: #174EA6;\n",
              "    }\n",
              "\n",
              "    [theme=dark] .colab-df-convert {\n",
              "      background-color: #3B4455;\n",
              "      fill: #D2E3FC;\n",
              "    }\n",
              "\n",
              "    [theme=dark] .colab-df-convert:hover {\n",
              "      background-color: #434B5C;\n",
              "      box-shadow: 0px 1px 3px 1px rgba(0, 0, 0, 0.15);\n",
              "      filter: drop-shadow(0px 1px 2px rgba(0, 0, 0, 0.3));\n",
              "      fill: #FFFFFF;\n",
              "    }\n",
              "  </style>\n",
              "\n",
              "      <script>\n",
              "        const buttonEl =\n",
              "          document.querySelector('#df-be25b32d-a3b3-46db-996f-949f5a136bd0 button.colab-df-convert');\n",
              "        buttonEl.style.display =\n",
              "          google.colab.kernel.accessAllowed ? 'block' : 'none';\n",
              "\n",
              "        async function convertToInteractive(key) {\n",
              "          const element = document.querySelector('#df-be25b32d-a3b3-46db-996f-949f5a136bd0');\n",
              "          const dataTable =\n",
              "            await google.colab.kernel.invokeFunction('convertToInteractive',\n",
              "                                                     [key], {});\n",
              "          if (!dataTable) return;\n",
              "\n",
              "          const docLinkHtml = 'Like what you see? Visit the ' +\n",
              "            '<a target=\"_blank\" href=https://colab.research.google.com/notebooks/data_table.ipynb>data table notebook</a>'\n",
              "            + ' to learn more about interactive tables.';\n",
              "          element.innerHTML = '';\n",
              "          dataTable['output_type'] = 'display_data';\n",
              "          await google.colab.output.renderOutput(dataTable, element);\n",
              "          const docLink = document.createElement('div');\n",
              "          docLink.innerHTML = docLinkHtml;\n",
              "          element.appendChild(docLink);\n",
              "        }\n",
              "      </script>\n",
              "    </div>\n",
              "  </div>\n",
              "  "
            ]
          },
          "metadata": {},
          "execution_count": 3
        }
      ],
      "source": [
        "# Carga de datos de archivos .csv\n",
        "df = pd.read_csv('https://raw.githubusercontent.com/albahnsen/MIAD_ML_and_NLP/main/datasets/Toxicity.zip')\n",
        "df = df[['id','comment_text', 'target']]\n",
        "df.head()\n",
        "df.dropna()"
      ]
    },
    {
      "cell_type": "code",
      "execution_count": null,
      "metadata": {
        "id": "faFEMwMpjNLA",
        "outputId": "3a8df5e5-263c-4aa6-8f58-4a5959df37a3"
      },
      "outputs": [
        {
          "data": {
            "text/plain": [
              "<AxesSubplot:>"
            ]
          },
          "execution_count": 4,
          "metadata": {},
          "output_type": "execute_result"
        },
        {
          "data": {
            "image/png": "[encoded data removed]",
            "text/plain": [
              "<Figure size 432x288 with 1 Axes>"
            ]
          },
          "metadata": {
            "needs_background": "light"
          },
          "output_type": "display_data"
        }
      ],
      "source": [
        "# Impresión histograma de variable de interés (y)\n",
        "df.target.hist()"
      ]
    },
    {
      "cell_type": "code",
      "execution_count": 4,
      "metadata": {
        "colab": {
          "base_uri": "https://localhost:8080/"
        },
        "id": "RLMfCPLsjNLB",
        "outputId": "7dfa2430-18ee-4d70-fd19-981277f27b03"
      },
      "outputs": [
        {
          "output_type": "execute_result",
          "data": {
            "text/plain": [
              "count    541462.000000\n",
              "mean          0.102991\n",
              "std           0.196979\n",
              "min           0.000000\n",
              "25%           0.000000\n",
              "50%           0.000000\n",
              "75%           0.166667\n",
              "max           1.000000\n",
              "Name: target, dtype: float64"
            ]
          },
          "metadata": {},
          "execution_count": 4
        }
      ],
      "source": [
        "# Separación de variable de interés (y)\n",
        "y = df.target\n",
        "y.describe()\n"
      ]
    },
    {
      "cell_type": "code",
      "execution_count": 5,
      "metadata": {
        "colab": {
          "base_uri": "https://localhost:8080/"
        },
        "id": "2HtoF7ICjNLC",
        "outputId": "681cb07c-8136-4a48-b458-3d7f78ea587b"
      },
      "outputs": [
        {
          "output_type": "execute_result",
          "data": {
            "text/plain": [
              "count         541462\n",
              "unique        537207\n",
              "top       Well said.\n",
              "freq              57\n",
              "Name: comment_text, dtype: object"
            ]
          },
          "metadata": {},
          "execution_count": 5
        }
      ],
      "source": [
        "# Separación de variables predictoras (X), solo se considera el texto de la noticia\n",
        "X = df.comment_text\n",
        "X.describe()"
      ]
    },
    {
      "cell_type": "code",
      "execution_count": 6,
      "metadata": {
        "id": "jwopKpnIjNLC"
      },
      "outputs": [],
      "source": [
        "# Separación de datos en set de entrenamiento y test\n",
        "X_train, X_test, y_train, y_test = train_test_split(X, y, test_size=0.33, random_state=42)\n",
        "y_train = (y_train>=0.5).astype(int)\n",
        "y_test = (y_test>=0.5).astype(int)"
      ]
    },
    {
      "cell_type": "markdown",
      "metadata": {
        "id": "U-_K4h0ojNLD"
      },
      "source": [
        "## Punto 1 - Tokenización con CountVectorizer\n",
        "\n",
        "En la celda 1 creen y entrenen el modelo de regresión de su preferencia, para que prediga la probabilidad de que un comentario sea tóxico, usando los set de entrenamiento y test definidos anteriormente. Usen la función **CountVectorizer** para preprocesar los comentarios y presenten el desempeño del modelo con la métrica del MSE.\n",
        "\n",
        "Recuerden que el preprocesamiento que se haga sobre los datos de entrenamiento  (*.fit_transform()*) deben ser aplicado al set de test (*.transform()*)."
      ]
    },
    {
      "cell_type": "code",
      "execution_count": null,
      "metadata": {
        "id": "Jfkelcw5jNLD",
        "outputId": "7ace22bf-a428-41e0-cd0a-3ecb6272829e"
      },
      "outputs": [
        {
          "name": "stdout",
          "output_type": "stream",
          "text": [
            "MSE: 0.07933043434462148\n"
          ]
        }
      ],
      "source": [
        "# Celda 1\n",
        "from sklearn.naive_bayes import MultinomialNB\n",
        "from sklearn.metrics import mean_squared_error\n",
        "\n",
        "# Vector entrenamiento y Test\n",
        "\n",
        "vect_A = CountVectorizer(lowercase=False)\n",
        "X_dtm_A = vect_A.fit_transform(X_train)\n",
        "Xt_dtm_A = vect_A.transform(X_test)\n",
        "\n",
        "# definir modelo\n",
        "nb = MultinomialNB()\n",
        "pd.Series(cross_val_score(nb, X, y, cv=10)).describe()\n",
        "\n",
        "\n",
        "# entrenar modelo\n",
        "nb.fit(X_dtm_A, y_train)\n",
        "\n",
        "# Hacemos la prediccion y obervamos los resultados \n",
        "#y_pred = nb.predict(Xt_dtm_A)\n",
        "\n",
        "y_pred = nb.predict(Xt_dtm_A)\n",
        "mseCountVEctorizaer = mean_squared_error(y_test, y_pred)\n",
        "print(\"MSE:\", mseCountVEctorizaer)"
      ]
    },
    {
      "cell_type": "markdown",
      "source": [
        "Para el primer punto se utilizó un  modelo de clasificación de Naive Bayes utilizando un conjunto de datos de entrenamiento y la función CountVectorizer. Este modelo fue evaluado por el MSE con un valor de 0.07933."
      ],
      "metadata": {
        "id": "-FdWy-4vjQoA"
      }
    },
    {
      "cell_type": "markdown",
      "metadata": {
        "id": "bIGaGo4ajNLE"
      },
      "source": [
        "## Punto 2 - Tokenización con CountVectorizer y trigramas\n",
        "\n",
        "En la celda 2 creen y entrenen el mismo modelo de regresión del punto anterior (es decir si usaron un RandomForestRegresor usen nuevamente ese regresor), para que prediga la probabilidad de que un comentario sea tóxico, usando los set de entrenamiento y test definidos anteriormente. Usen la función CountVectorizer **considerando trigramas** para preprocesar los comentarios y presenten el desempeño del modelo con la métrica del MSE.\n",
        "\n",
        "Recuerden que el preprocesamiento que se haga sobre los datos de entrenamiento  (*.fit_transform()*) deben ser aplicado al set de test (*.transform()*)."
      ]
    },
    {
      "cell_type": "code",
      "execution_count": null,
      "metadata": {
        "id": "fgr5f72mjNLF",
        "outputId": "bfe5c1e6-572f-40aa-f92b-a8e159bb11f8"
      },
      "outputs": [
        {
          "name": "stdout",
          "output_type": "stream",
          "text": [
            "MSE: 0.07978934761560977\n"
          ]
        }
      ],
      "source": [
        "# Celda 2\n",
        "\n",
        "# Vector entrenamiento\n",
        "\n",
        "vect_B = CountVectorizer(lowercase=False, ngram_range=(1, 4))\n",
        "X_dtm_B = vect_B.fit_transform(X_train)\n",
        "# Vector test\n",
        "Xt_dtm_B = vect_B.transform(X_test)\n",
        "\n",
        "# definir modelo\n",
        "\n",
        "nb = MultinomialNB()\n",
        "# pd.Series(cross_val_score(nb, X_dtm_A, y_train, cv=10)).describe()\n",
        "\n",
        "# entrenar modelo\n",
        "nb.fit(X_dtm_B, y_train)\n",
        "\n",
        "# predicción y clasificación\n",
        "\n",
        "y_pred = nb.predict(Xt_dtm_B)\n",
        "mseCountVEctorizaerwithTrigrams = mean_squared_error(y_test, y_pred)\n",
        "print(\"MSE:\", mseCountVEctorizaerwithTrigrams)"
      ]
    },
    {
      "cell_type": "markdown",
      "source": [
        "En este punto se puede observar que nuevamente el MSE obtenido es bajo de 0.0797, lo que indica que el modelo tiene una buena capacidad de generalización y es capaz de clasificar correctamente la mayoría de los comentarios. Entre ambos, la diferencia del MSE es pequeña por lo que podemos determinar que la inclusión de trigramas no aporta significativamente a la capacidad de clasificación del modelo."
      ],
      "metadata": {
        "id": "xsu3cz1xkEa5"
      }
    },
    {
      "cell_type": "markdown",
      "metadata": {
        "id": "LZCcSAOVjNLG"
      },
      "source": [
        "## Punto 3 - TfidfVectorizer\n",
        "\n",
        "Investigen sobre la función TfidfVectorizer. En la celda de texto 3, expliquen en qué consiste esta técnica de tokenización (describanla y expliquen su funcionamiento) y cúales son las ventajas o deventajas de su uso al compararlo con la función CountVectorizer."
      ]
    },
    {
      "cell_type": "markdown",
      "metadata": {
        "id": "wMNfbcZkjNLG"
      },
      "source": [
        "# Celda 3\n",
        "\n",
        "\n",
        "## TfidfVectorizer\n",
        "TF-IDF es una abreviatura de Term Frequency Inverse Document Frequency, este algoritmo pondera el recuento de las palabras según la frecuencia que tienen en los documentos, \n",
        "esto quiere decir que compara el número de veces que la palabra aparece en un documento con el número de documentos donde aparece la palabra. \n",
        "\n",
        "Cálculo:\n",
        "\n",
        "TF(t) = (N º de veces que aparece el término 't' en un documento ) / ( Frecuencia del término más común en un documento)\n",
        "\n",
        "IDF(t) = log e [ (1+n) / ( 1 + df(t) ) ] + 1 (por defecto i:e smooth_idf = True)\n",
        "\n",
        "TF-IDF= TF(t) * IDF(t)\n",
        "\n",
        "Ventajas:\n",
        "- Evita poner demasiado peso a las palabras que aparecen con mucha frecuencia\n",
        "- Se pude calcular la similitud entre 2 documentos\n",
        "\n",
        "Desventajas:\n",
        "\n",
        "- Al basarse en el modelo de bolsas de palabras (BoW), no captura la posición del text\n",
        "- No captura la semántica"
      ]
    },
    {
      "cell_type": "markdown",
      "metadata": {
        "id": "peYaKZbijNLH"
      },
      "source": [
        "## Punto 4 - Tokenización con TfidfVectorizer\n",
        "\n",
        "En la celda 4 creen y entrenen el mismo modelo de regresión del primer punto, para que prediga la probabilidad de que un comentario sea tóxico, usando los set de entrenamiento y test definidos anteriormente. Procesen los comentarios con la función **TfidfVectorizer** y presenten el desempeño del modelo con la métrica del MSE.\n",
        "\n",
        "Recuerden que el preprocesamiento que se haga sobre los datos de entrenamiento  (*.fit_transform()*) deben ser aplicado al set de test (*.transform()*)."
      ]
    },
    {
      "cell_type": "code",
      "execution_count": null,
      "metadata": {
        "id": "YnWpUqGmjNLH",
        "outputId": "3a9903c9-ede2-4d33-d9ba-d3f373ccf242"
      },
      "outputs": [
        {
          "name": "stdout",
          "output_type": "stream",
          "text": [
            "MSE: 0.07992926019822814\n"
          ]
        }
      ],
      "source": [
        "# Celda 4\n",
        "\n",
        "from sklearn.feature_extraction.text import TfidfVectorizer\n",
        "\n",
        "vect_C = TfidfVectorizer()\n",
        "X_dtm_C = vect_C.fit_transform(X_train)\n",
        "# Vector test\n",
        "Xt_dtm_C = vect_C.transform(X_test)\n",
        "\n",
        "# definir modelo\n",
        "\n",
        "nb = MultinomialNB()\n",
        "# pd.Series(cross_val_score(nb, X_dtm_A, y_train, cv=10)).describe()\n",
        "\n",
        "# entrenar modelo\n",
        "nb.fit(X_dtm_C, y_train)\n",
        "\n",
        "# predicción y clasificación\n",
        "\n",
        "y_pred = nb.predict(Xt_dtm_C)\n",
        "mseTfidfVectorizer = mean_squared_error(y_test, y_pred)\n",
        "print(\"MSE:\", mseTfidfVectorizer)\n"
      ]
    },
    {
      "cell_type": "markdown",
      "source": [
        "Al utilizar la función TfidfVectorizer para preprocesar los comentarios, se obtuvo un MSE de 0.0799, se puede ver que este resultado es ligeramente mayor que los dos modelos anteriores."
      ],
      "metadata": {
        "id": "-qz0jRX5lxZ9"
      }
    },
    {
      "cell_type": "markdown",
      "metadata": {
        "id": "ADV5qxc3jNLI"
      },
      "source": [
        "## Punto 5 - Comparación y análisis de resultados\n",
        "\n",
        "En la celda 5 comparen los resultados obtenidos de los diferentes modelos y comenten cómo el preprocesamiento de texto afecta el desempeño."
      ]
    },
    {
      "cell_type": "code",
      "execution_count": null,
      "metadata": {
        "id": "0RSqduYNjNLI",
        "outputId": "75396a16-9a76-474b-b3e5-76f1acf7e848"
      },
      "outputs": [
        {
          "data": {
            "image/png": "[encoded data removed]",
            "text/plain": [
              "<Figure size 432x288 with 1 Axes>"
            ]
          },
          "metadata": {
            "needs_background": "light"
          },
          "output_type": "display_data"
        }
      ],
      "source": [
        "# Celda 5\n",
        "\n",
        "import matplotlib.pyplot as plt\n",
        "\n",
        "fig = plt.figure()\n",
        "ax = fig.add_axes([0,0,1,1])\n",
        "#Asignamos el titulo\n",
        "ax.set_title(\"Comparación de modelos\")\n",
        "\n",
        "ejeX = [ 'CountVectorizer','CountVectorizaer with trigrams', 'TfidfVectorizer']\n",
        "ejeY = [round(mseCountVEctorizaer,5),round(mseCountVEctorizaerwithTrigrams,5),round(mseTfidfVectorizer,5)]\n",
        "ax.bar(ejeX,ejeY)\n",
        "\n",
        "def addlabels(x,y,plotP):\n",
        "    for i in range(len(x)):\n",
        "        plotP.text(i,y[i],y[i])\n",
        "addlabels(ejeX,ejeY,plt)\n",
        "plt.show()"
      ]
    },
    {
      "cell_type": "markdown",
      "metadata": {
        "id": "5Z7zAiBOjNLJ"
      },
      "source": [
        "**Comentarios Finales**\n",
        "\n",
        "En general, los resultados son bastante similares en terminos de desempeño se puede concluir que no hay una gran diferencia entre los tres modelos.\n",
        "El primer modelo con CountVectorizer para preprocesar los comentarios, obtuvo un MSE de 0.0793. Luego, al utilizar trigramas, se obtuvo un MSE de 0.07979, ligeramente mayor que el modelo anterior. Finalmente, al utilizar la función TfidfVectorizer para preprocesar los comentarios, se obtuvo un MSE de 0.0799, mayor que los dos modelos anteriores. Teniendo estos resultados en cuenta, la diferencia en el desempeño es muy pequeña y podría variar según la métrica utilizada para evaluar cada uno de los modelos, sin embargo el MSE más bajo fue el de CountVectorizer, pero debido a que la diferencia es minima se podría utilizar cualquiera de los 3. A continuación presentaremos las ventajas y desventajas de cada uno de ellos:\n",
        "\n",
        "Las ventajas del primer modelo se puede decir que es un Modelo simple y fácil de entender e implementar y puede ser útil para modelos que requieren un procesamiento rápido de texto. Sin embargo tiene areas de oportunidad ya que no considera la frecuencia de los términos en el conjunto de datos, lo que puede ser problemático cuando hay palabras comunes en los comentarios que no son relevantes para el análisis y como no considera las relaciones entre las palabras, es dificil que realmente entienda el significado completo de los comentarios.\n",
        "\n",
        "Por otro lado, el segundo modelo con trigramas considera las relaciones entre las palabras, lo que puede mejorar la capacidad del modelo para entender el significado completo de los comentarios pero puede ser menos eficiente computacionalmente debido a la mayor cantidad de características.\n",
        "\n",
        "Por ultimo, el Modelo con vectorizador TfidfVectorizer considera la frecuencia y la importancia relativa de los términos en el conjunto de datos, lo que puede ayudar al modelo a dar más peso a las palabras más importantes en los comentarios pero puede ser menos efectivo para modelos que requieren un procesamiento rápido de texto debido a su complejidad computacional."
      ]
    }
  ],
  "metadata": {
    "kernelspec": {
      "display_name": "Python 3 (ipykernel)",
      "language": "python",
      "name": "python3"
    },
    "language_info": {
      "codemirror_mode": {
        "name": "ipython",
        "version": 3
      },
      "file_extension": ".py",
      "mimetype": "text/x-python",
      "name": "python",
      "nbconvert_exporter": "python",
      "pygments_lexer": "ipython3",
      "version": "3.9.7"
    },
    "name": "_merged",
    "colab": {
      "provenance": []
    }
  },
  "nbformat": 4,
  "nbformat_minor": 0
}