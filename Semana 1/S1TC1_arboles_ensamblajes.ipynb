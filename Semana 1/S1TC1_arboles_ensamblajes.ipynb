{
  "cells": [
    {
      "cell_type": "markdown",
      "metadata": {
        "id": "view-in-github",
        "colab_type": "text"
      },
      "source": [
        "<a href=\"https://colab.research.google.com/github/vcolonnas25/Maestria/blob/main/Semana%201/S1TC1_arboles_ensamblajes.ipynb\" target=\"_parent\"><img src=\"https://colab.research.google.com/assets/colab-badge.svg\" alt=\"Open In Colab\"/></a>"
      ]
    },
    {
      "cell_type": "markdown",
      "metadata": {
        "id": "j1Kwlu36wBHj"
      },
      "source": [
        "![image info](https://raw.githubusercontent.com/albahnsen/MIAD_ML_and_NLP/main/images/banner_1.png)"
      ]
    },
    {
      "cell_type": "markdown",
      "metadata": {
        "id": "Y5_IHcH2wBHl"
      },
      "source": [
        "# Taller: Construcción e implementación de árboles de decisión y métodos de ensamblaje\n",
        "\n",
        "En este taller podrá poner en práctica los sus conocimientos sobre construcción e implementación de árboles de decisión y métodos de ensamblajes. El taller está constituido por 9 puntos, 5 relacionados con árboles de decisión (parte A) y 4 con métodos de ensamblaje (parte B)."
      ]
    },
    {
      "cell_type": "markdown",
      "metadata": {
        "id": "9PSez5ivwBHm"
      },
      "source": [
        "## Parte A - Árboles de decisión\n",
        "\n",
        "En esta parte del taller se usará el conjunto de datos de Capital Bikeshare de Kaggle, donde cada observación representa el alquiler de bicicletas durante una hora y día determinado. Para más detalles puede visitar los siguientes enlaces: [datos](https://archive.ics.uci.edu/ml/machine-learning-databases/00275/Bike-Sharing-Dataset.zip), [dicccionario de datos](https://archive.ics.uci.edu/ml/datasets/Bike+Sharing+Dataset#)."
      ]
    },
    {
      "cell_type": "markdown",
      "metadata": {
        "id": "p9FYaM4ZwBHn"
      },
      "source": [
        "### Datos prestamo de bicicletas"
      ]
    },
    {
      "cell_type": "code",
      "execution_count": null,
      "metadata": {
        "id": "wFzBevzxwBHn"
      },
      "outputs": [],
      "source": [
        "import warnings\n",
        "warnings.filterwarnings('ignore')"
      ]
    },
    {
      "cell_type": "code",
      "execution_count": null,
      "metadata": {
        "id": "sUFLmU5WwBHo"
      },
      "outputs": [],
      "source": [
        "# Importación de librerías\n",
        "%matplotlib inline\n",
        "import pandas as pd\n",
        "import numpy as np\n",
        "from sklearn.model_selection import cross_val_score\n",
        "from sklearn.linear_model import LinearRegression\n",
        "from sklearn.tree import DecisionTreeRegressor, export_graphviz\n",
        "import matplotlib.pyplot as plt"
      ]
    },
    {
      "cell_type": "code",
      "execution_count": null,
      "metadata": {
        "colab": {
          "base_uri": "https://localhost:8080/",
          "height": 237
        },
        "id": "Kmxc9KWewBHp",
        "outputId": "e3282894-1f2c-4146-bc31-d0c84f3e4667"
      },
      "outputs": [
        {
          "output_type": "execute_result",
          "data": {
            "text/plain": [
              "                     season  holiday  workingday  weather  temp   atemp  \\\n",
              "datetime                                                                  \n",
              "2011-01-01 00:00:00       1        0           0        1  9.84  14.395   \n",
              "2011-01-01 01:00:00       1        0           0        1  9.02  13.635   \n",
              "2011-01-01 02:00:00       1        0           0        1  9.02  13.635   \n",
              "2011-01-01 03:00:00       1        0           0        1  9.84  14.395   \n",
              "2011-01-01 04:00:00       1        0           0        1  9.84  14.395   \n",
              "\n",
              "                     humidity  windspeed  casual  registered  total  hour  \n",
              "datetime                                                                   \n",
              "2011-01-01 00:00:00        81        0.0       3          13     16     0  \n",
              "2011-01-01 01:00:00        80        0.0       8          32     40     1  \n",
              "2011-01-01 02:00:00        80        0.0       5          27     32     2  \n",
              "2011-01-01 03:00:00        75        0.0       3          10     13     3  \n",
              "2011-01-01 04:00:00        75        0.0       0           1      1     4  "
            ],
            "text/html": [
              "\n",
              "  <div id=\"df-c975f351-fd8c-4686-92d0-dc82057eb5cb\">\n",
              "    <div class=\"colab-df-container\">\n",
              "      <div>\n",
              "<style scoped>\n",
              "    .dataframe tbody tr th:only-of-type {\n",
              "        vertical-align: middle;\n",
              "    }\n",
              "\n",
              "    .dataframe tbody tr th {\n",
              "        vertical-align: top;\n",
              "    }\n",
              "\n",
              "    .dataframe thead th {\n",
              "        text-align: right;\n",
              "    }\n",
              "</style>\n",
              "<table border=\"1\" class=\"dataframe\">\n",
              "  <thead>\n",
              "    <tr style=\"text-align: right;\">\n",
              "      <th></th>\n",
              "      <th>season</th>\n",
              "      <th>holiday</th>\n",
              "      <th>workingday</th>\n",
              "      <th>weather</th>\n",
              "      <th>temp</th>\n",
              "      <th>atemp</th>\n",
              "      <th>humidity</th>\n",
              "      <th>windspeed</th>\n",
              "      <th>casual</th>\n",
              "      <th>registered</th>\n",
              "      <th>total</th>\n",
              "      <th>hour</th>\n",
              "    </tr>\n",
              "    <tr>\n",
              "      <th>datetime</th>\n",
              "      <th></th>\n",
              "      <th></th>\n",
              "      <th></th>\n",
              "      <th></th>\n",
              "      <th></th>\n",
              "      <th></th>\n",
              "      <th></th>\n",
              "      <th></th>\n",
              "      <th></th>\n",
              "      <th></th>\n",
              "      <th></th>\n",
              "      <th></th>\n",
              "    </tr>\n",
              "  </thead>\n",
              "  <tbody>\n",
              "    <tr>\n",
              "      <th>2011-01-01 00:00:00</th>\n",
              "      <td>1</td>\n",
              "      <td>0</td>\n",
              "      <td>0</td>\n",
              "      <td>1</td>\n",
              "      <td>9.84</td>\n",
              "      <td>14.395</td>\n",
              "      <td>81</td>\n",
              "      <td>0.0</td>\n",
              "      <td>3</td>\n",
              "      <td>13</td>\n",
              "      <td>16</td>\n",
              "      <td>0</td>\n",
              "    </tr>\n",
              "    <tr>\n",
              "      <th>2011-01-01 01:00:00</th>\n",
              "      <td>1</td>\n",
              "      <td>0</td>\n",
              "      <td>0</td>\n",
              "      <td>1</td>\n",
              "      <td>9.02</td>\n",
              "      <td>13.635</td>\n",
              "      <td>80</td>\n",
              "      <td>0.0</td>\n",
              "      <td>8</td>\n",
              "      <td>32</td>\n",
              "      <td>40</td>\n",
              "      <td>1</td>\n",
              "    </tr>\n",
              "    <tr>\n",
              "      <th>2011-01-01 02:00:00</th>\n",
              "      <td>1</td>\n",
              "      <td>0</td>\n",
              "      <td>0</td>\n",
              "      <td>1</td>\n",
              "      <td>9.02</td>\n",
              "      <td>13.635</td>\n",
              "      <td>80</td>\n",
              "      <td>0.0</td>\n",
              "      <td>5</td>\n",
              "      <td>27</td>\n",
              "      <td>32</td>\n",
              "      <td>2</td>\n",
              "    </tr>\n",
              "    <tr>\n",
              "      <th>2011-01-01 03:00:00</th>\n",
              "      <td>1</td>\n",
              "      <td>0</td>\n",
              "      <td>0</td>\n",
              "      <td>1</td>\n",
              "      <td>9.84</td>\n",
              "      <td>14.395</td>\n",
              "      <td>75</td>\n",
              "      <td>0.0</td>\n",
              "      <td>3</td>\n",
              "      <td>10</td>\n",
              "      <td>13</td>\n",
              "      <td>3</td>\n",
              "    </tr>\n",
              "    <tr>\n",
              "      <th>2011-01-01 04:00:00</th>\n",
              "      <td>1</td>\n",
              "      <td>0</td>\n",
              "      <td>0</td>\n",
              "      <td>1</td>\n",
              "      <td>9.84</td>\n",
              "      <td>14.395</td>\n",
              "      <td>75</td>\n",
              "      <td>0.0</td>\n",
              "      <td>0</td>\n",
              "      <td>1</td>\n",
              "      <td>1</td>\n",
              "      <td>4</td>\n",
              "    </tr>\n",
              "  </tbody>\n",
              "</table>\n",
              "</div>\n",
              "      <button class=\"colab-df-convert\" onclick=\"convertToInteractive('df-c975f351-fd8c-4686-92d0-dc82057eb5cb')\"\n",
              "              title=\"Convert this dataframe to an interactive table.\"\n",
              "              style=\"display:none;\">\n",
              "        \n",
              "  <svg xmlns=\"http://www.w3.org/2000/svg\" height=\"24px\"viewBox=\"0 0 24 24\"\n",
              "       width=\"24px\">\n",
              "    <path d=\"M0 0h24v24H0V0z\" fill=\"none\"/>\n",
              "    <path d=\"M18.56 5.44l.94 2.06.94-2.06 2.06-.94-2.06-.94-.94-2.06-.94 2.06-2.06.94zm-11 1L8.5 8.5l.94-2.06 2.06-.94-2.06-.94L8.5 2.5l-.94 2.06-2.06.94zm10 10l.94 2.06.94-2.06 2.06-.94-2.06-.94-.94-2.06-.94 2.06-2.06.94z\"/><path d=\"M17.41 7.96l-1.37-1.37c-.4-.4-.92-.59-1.43-.59-.52 0-1.04.2-1.43.59L10.3 9.45l-7.72 7.72c-.78.78-.78 2.05 0 2.83L4 21.41c.39.39.9.59 1.41.59.51 0 1.02-.2 1.41-.59l7.78-7.78 2.81-2.81c.8-.78.8-2.07 0-2.86zM5.41 20L4 18.59l7.72-7.72 1.47 1.35L5.41 20z\"/>\n",
              "  </svg>\n",
              "      </button>\n",
              "      \n",
              "  <style>\n",
              "    .colab-df-container {\n",
              "      display:flex;\n",
              "      flex-wrap:wrap;\n",
              "      gap: 12px;\n",
              "    }\n",
              "\n",
              "    .colab-df-convert {\n",
              "      background-color: #E8F0FE;\n",
              "      border: none;\n",
              "      border-radius: 50%;\n",
              "      cursor: pointer;\n",
              "      display: none;\n",
              "      fill: #1967D2;\n",
              "      height: 32px;\n",
              "      padding: 0 0 0 0;\n",
              "      width: 32px;\n",
              "    }\n",
              "\n",
              "    .colab-df-convert:hover {\n",
              "      background-color: #E2EBFA;\n",
              "      box-shadow: 0px 1px 2px rgba(60, 64, 67, 0.3), 0px 1px 3px 1px rgba(60, 64, 67, 0.15);\n",
              "      fill: #174EA6;\n",
              "    }\n",
              "\n",
              "    [theme=dark] .colab-df-convert {\n",
              "      background-color: #3B4455;\n",
              "      fill: #D2E3FC;\n",
              "    }\n",
              "\n",
              "    [theme=dark] .colab-df-convert:hover {\n",
              "      background-color: #434B5C;\n",
              "      box-shadow: 0px 1px 3px 1px rgba(0, 0, 0, 0.15);\n",
              "      filter: drop-shadow(0px 1px 2px rgba(0, 0, 0, 0.3));\n",
              "      fill: #FFFFFF;\n",
              "    }\n",
              "  </style>\n",
              "\n",
              "      <script>\n",
              "        const buttonEl =\n",
              "          document.querySelector('#df-c975f351-fd8c-4686-92d0-dc82057eb5cb button.colab-df-convert');\n",
              "        buttonEl.style.display =\n",
              "          google.colab.kernel.accessAllowed ? 'block' : 'none';\n",
              "\n",
              "        async function convertToInteractive(key) {\n",
              "          const element = document.querySelector('#df-c975f351-fd8c-4686-92d0-dc82057eb5cb');\n",
              "          const dataTable =\n",
              "            await google.colab.kernel.invokeFunction('convertToInteractive',\n",
              "                                                     [key], {});\n",
              "          if (!dataTable) return;\n",
              "\n",
              "          const docLinkHtml = 'Like what you see? Visit the ' +\n",
              "            '<a target=\"_blank\" href=https://colab.research.google.com/notebooks/data_table.ipynb>data table notebook</a>'\n",
              "            + ' to learn more about interactive tables.';\n",
              "          element.innerHTML = '';\n",
              "          dataTable['output_type'] = 'display_data';\n",
              "          await google.colab.output.renderOutput(dataTable, element);\n",
              "          const docLink = document.createElement('div');\n",
              "          docLink.innerHTML = docLinkHtml;\n",
              "          element.appendChild(docLink);\n",
              "        }\n",
              "      </script>\n",
              "    </div>\n",
              "  </div>\n",
              "  "
            ]
          },
          "metadata": {},
          "execution_count": 3
        }
      ],
      "source": [
        "# Lectura de la información de archivo .csv\n",
        "bikes = pd.read_csv('https://raw.githubusercontent.com/davidzarruk/MIAD_ML_NLP_2023/main/datasets/bikeshare.csv', index_col='datetime', parse_dates=True)\n",
        "\n",
        "# Renombrar variable \"count\" a \"total\"\n",
        "bikes.rename(columns={'count':'total'}, inplace=True)\n",
        "\n",
        "# Crear la hora como una variable \n",
        "bikes['hour'] = bikes.index.hour\n",
        "\n",
        "# Visualización de los datos\n",
        "bikes.head()"
      ]
    },
    {
      "cell_type": "markdown",
      "metadata": {
        "id": "WZJCVwh7wBHp"
      },
      "source": [
        "### Punto 1 - Análisis descriptivo\n",
        "\n",
        "Ejecute las celdas 1.1 y 1.2. A partir de los resultados realice un análisis descriptivo sobre las variables \"season\" y \"hour\", escriba sus inferencias sobre los datos. Para complementar su análisis puede usar métricas como máximo, mínimo, percentiles entre otros."
      ]
    },
    {
      "cell_type": "code",
      "execution_count": null,
      "metadata": {
        "id": "UO6XoEHGwBHq"
      },
      "outputs": [],
      "source": [
        "# Celda 1.1\n",
        "mean_season = bikes.groupby('season').total.mean()"
      ]
    },
    {
      "cell_type": "code",
      "source": [
        "# Obtenemos una gráfica de la media de las bicicletas rentadas por estacionalidad\n",
        "fig, ax = plt.subplots()\n",
        "bar_container = ax.bar([\"1:winter\", \"2:spring\", \"3:summer\", \"4:fall\"], mean_season)\n",
        "ax.set(ylabel='Bike rents', xlabel='Seasons',title='AVERAGE BIKE RENT BY SEASON', ylim=(0, 300))\n",
        "ax.bar_label(bar_container, fmt='{:,.0f}')\n",
        "plt.show()"
      ],
      "metadata": {
        "id": "8vGxA7Xg52Bp",
        "outputId": "3a95b113-2f94-4116-a2df-38c0e2db614a",
        "colab": {
          "base_uri": "https://localhost:8080/",
          "height": 472
        }
      },
      "execution_count": null,
      "outputs": [
        {
          "output_type": "display_data",
          "data": {
            "text/plain": [
              "<Figure size 640x480 with 1 Axes>"
            ],
            "image/png": "[encoded data removed]"
          },
          "metadata": {}
        }
      ]
    },
    {
      "cell_type": "code",
      "source": [
        "bikes.groupby('season').total.describe()"
      ],
      "metadata": {
        "id": "1TIGpM6_zmij",
        "outputId": "cb16cffa-8c61-4574-d8be-b7a28e625c08",
        "colab": {
          "base_uri": "https://localhost:8080/",
          "height": 206
        }
      },
      "execution_count": null,
      "outputs": [
        {
          "output_type": "execute_result",
          "data": {
            "text/plain": [
              "         count        mean         std  min   25%    50%    75%    max\n",
              "season                                                                \n",
              "1       2686.0  116.343261  125.273974  1.0  24.0   78.0  164.0  801.0\n",
              "2       2733.0  215.251372  192.007843  1.0  49.0  172.0  321.0  873.0\n",
              "3       2733.0  234.417124  197.151001  1.0  68.0  195.0  347.0  977.0\n",
              "4       2734.0  198.988296  177.622409  1.0  51.0  161.0  294.0  948.0"
            ],
            "text/html": [
              "\n",
              "  <div id=\"df-473746b0-3124-48cc-b320-df4b83067db1\">\n",
              "    <div class=\"colab-df-container\">\n",
              "      <div>\n",
              "<style scoped>\n",
              "    .dataframe tbody tr th:only-of-type {\n",
              "        vertical-align: middle;\n",
              "    }\n",
              "\n",
              "    .dataframe tbody tr th {\n",
              "        vertical-align: top;\n",
              "    }\n",
              "\n",
              "    .dataframe thead th {\n",
              "        text-align: right;\n",
              "    }\n",
              "</style>\n",
              "<table border=\"1\" class=\"dataframe\">\n",
              "  <thead>\n",
              "    <tr style=\"text-align: right;\">\n",
              "      <th></th>\n",
              "      <th>count</th>\n",
              "      <th>mean</th>\n",
              "      <th>std</th>\n",
              "      <th>min</th>\n",
              "      <th>25%</th>\n",
              "      <th>50%</th>\n",
              "      <th>75%</th>\n",
              "      <th>max</th>\n",
              "    </tr>\n",
              "    <tr>\n",
              "      <th>season</th>\n",
              "      <th></th>\n",
              "      <th></th>\n",
              "      <th></th>\n",
              "      <th></th>\n",
              "      <th></th>\n",
              "      <th></th>\n",
              "      <th></th>\n",
              "      <th></th>\n",
              "    </tr>\n",
              "  </thead>\n",
              "  <tbody>\n",
              "    <tr>\n",
              "      <th>1</th>\n",
              "      <td>2686.0</td>\n",
              "      <td>116.343261</td>\n",
              "      <td>125.273974</td>\n",
              "      <td>1.0</td>\n",
              "      <td>24.0</td>\n",
              "      <td>78.0</td>\n",
              "      <td>164.0</td>\n",
              "      <td>801.0</td>\n",
              "    </tr>\n",
              "    <tr>\n",
              "      <th>2</th>\n",
              "      <td>2733.0</td>\n",
              "      <td>215.251372</td>\n",
              "      <td>192.007843</td>\n",
              "      <td>1.0</td>\n",
              "      <td>49.0</td>\n",
              "      <td>172.0</td>\n",
              "      <td>321.0</td>\n",
              "      <td>873.0</td>\n",
              "    </tr>\n",
              "    <tr>\n",
              "      <th>3</th>\n",
              "      <td>2733.0</td>\n",
              "      <td>234.417124</td>\n",
              "      <td>197.151001</td>\n",
              "      <td>1.0</td>\n",
              "      <td>68.0</td>\n",
              "      <td>195.0</td>\n",
              "      <td>347.0</td>\n",
              "      <td>977.0</td>\n",
              "    </tr>\n",
              "    <tr>\n",
              "      <th>4</th>\n",
              "      <td>2734.0</td>\n",
              "      <td>198.988296</td>\n",
              "      <td>177.622409</td>\n",
              "      <td>1.0</td>\n",
              "      <td>51.0</td>\n",
              "      <td>161.0</td>\n",
              "      <td>294.0</td>\n",
              "      <td>948.0</td>\n",
              "    </tr>\n",
              "  </tbody>\n",
              "</table>\n",
              "</div>\n",
              "      <button class=\"colab-df-convert\" onclick=\"convertToInteractive('df-473746b0-3124-48cc-b320-df4b83067db1')\"\n",
              "              title=\"Convert this dataframe to an interactive table.\"\n",
              "              style=\"display:none;\">\n",
              "        \n",
              "  <svg xmlns=\"http://www.w3.org/2000/svg\" height=\"24px\"viewBox=\"0 0 24 24\"\n",
              "       width=\"24px\">\n",
              "    <path d=\"M0 0h24v24H0V0z\" fill=\"none\"/>\n",
              "    <path d=\"M18.56 5.44l.94 2.06.94-2.06 2.06-.94-2.06-.94-.94-2.06-.94 2.06-2.06.94zm-11 1L8.5 8.5l.94-2.06 2.06-.94-2.06-.94L8.5 2.5l-.94 2.06-2.06.94zm10 10l.94 2.06.94-2.06 2.06-.94-2.06-.94-.94-2.06-.94 2.06-2.06.94z\"/><path d=\"M17.41 7.96l-1.37-1.37c-.4-.4-.92-.59-1.43-.59-.52 0-1.04.2-1.43.59L10.3 9.45l-7.72 7.72c-.78.78-.78 2.05 0 2.83L4 21.41c.39.39.9.59 1.41.59.51 0 1.02-.2 1.41-.59l7.78-7.78 2.81-2.81c.8-.78.8-2.07 0-2.86zM5.41 20L4 18.59l7.72-7.72 1.47 1.35L5.41 20z\"/>\n",
              "  </svg>\n",
              "      </button>\n",
              "      \n",
              "  <style>\n",
              "    .colab-df-container {\n",
              "      display:flex;\n",
              "      flex-wrap:wrap;\n",
              "      gap: 12px;\n",
              "    }\n",
              "\n",
              "    .colab-df-convert {\n",
              "      background-color: #E8F0FE;\n",
              "      border: none;\n",
              "      border-radius: 50%;\n",
              "      cursor: pointer;\n",
              "      display: none;\n",
              "      fill: #1967D2;\n",
              "      height: 32px;\n",
              "      padding: 0 0 0 0;\n",
              "      width: 32px;\n",
              "    }\n",
              "\n",
              "    .colab-df-convert:hover {\n",
              "      background-color: #E2EBFA;\n",
              "      box-shadow: 0px 1px 2px rgba(60, 64, 67, 0.3), 0px 1px 3px 1px rgba(60, 64, 67, 0.15);\n",
              "      fill: #174EA6;\n",
              "    }\n",
              "\n",
              "    [theme=dark] .colab-df-convert {\n",
              "      background-color: #3B4455;\n",
              "      fill: #D2E3FC;\n",
              "    }\n",
              "\n",
              "    [theme=dark] .colab-df-convert:hover {\n",
              "      background-color: #434B5C;\n",
              "      box-shadow: 0px 1px 3px 1px rgba(0, 0, 0, 0.15);\n",
              "      filter: drop-shadow(0px 1px 2px rgba(0, 0, 0, 0.3));\n",
              "      fill: #FFFFFF;\n",
              "    }\n",
              "  </style>\n",
              "\n",
              "      <script>\n",
              "        const buttonEl =\n",
              "          document.querySelector('#df-473746b0-3124-48cc-b320-df4b83067db1 button.colab-df-convert');\n",
              "        buttonEl.style.display =\n",
              "          google.colab.kernel.accessAllowed ? 'block' : 'none';\n",
              "\n",
              "        async function convertToInteractive(key) {\n",
              "          const element = document.querySelector('#df-473746b0-3124-48cc-b320-df4b83067db1');\n",
              "          const dataTable =\n",
              "            await google.colab.kernel.invokeFunction('convertToInteractive',\n",
              "                                                     [key], {});\n",
              "          if (!dataTable) return;\n",
              "\n",
              "          const docLinkHtml = 'Like what you see? Visit the ' +\n",
              "            '<a target=\"_blank\" href=https://colab.research.google.com/notebooks/data_table.ipynb>data table notebook</a>'\n",
              "            + ' to learn more about interactive tables.';\n",
              "          element.innerHTML = '';\n",
              "          dataTable['output_type'] = 'display_data';\n",
              "          await google.colab.output.renderOutput(dataTable, element);\n",
              "          const docLink = document.createElement('div');\n",
              "          docLink.innerHTML = docLinkHtml;\n",
              "          element.appendChild(docLink);\n",
              "        }\n",
              "      </script>\n",
              "    </div>\n",
              "  </div>\n",
              "  "
            ]
          },
          "metadata": {},
          "execution_count": 19
        }
      ]
    },
    {
      "cell_type": "markdown",
      "source": [
        "**Análisis de los datos**\n",
        "\n",
        "Se observa que con un promedio de 234 bicicletas, la temporada donde se arriendan la mayor cantidad de bicicletas es en verano. Esto debido a que el clima se acentúa más durante esta epoca del año y hace posible realizar esta actividad. Inclusive se puede observar que la mayor cantidad de arriendos, que equivalen a 977 bicicletas, ocurrió durante el verano. Por otro lado, la temporada con menor arriendo de bicicletas es invierno con un promedio de 116 bicicletas y un máximo de 801 bicicletas arrendadas. Para esta epoca del año es muy dificil debido al clima utilizar este medio de transporte por lo cual los programas de arrendamiento de bicicletas deben buscar nuevas estrategias para ejecutar durante esta epoca del año.\n",
        "1:winter, 2:spring, 3:summer, 4:fall"
      ],
      "metadata": {
        "id": "hYD5GYgr0rgL"
      }
    },
    {
      "cell_type": "code",
      "execution_count": null,
      "metadata": {
        "scrolled": true,
        "id": "Fvzkim1uwBHq"
      },
      "outputs": [],
      "source": [
        "# Celda 1.2\n",
        "mean_hour = bikes.groupby('hour').total.mean()"
      ]
    },
    {
      "cell_type": "code",
      "source": [
        "bikes.groupby('hour').total.describe()"
      ],
      "metadata": {
        "id": "5AT9dJoD0RnC",
        "outputId": "13c3472b-da2c-4319-bcbc-52e4b0d4276d",
        "colab": {
          "base_uri": "https://localhost:8080/",
          "height": 833
        }
      },
      "execution_count": null,
      "outputs": [
        {
          "output_type": "execute_result",
          "data": {
            "text/plain": [
              "      count        mean         std   min     25%    50%     75%    max\n",
              "hour                                                                   \n",
              "0     455.0   55.138462   43.620012   2.0   24.00   41.0   74.50  283.0\n",
              "1     454.0   33.859031   34.112105   1.0   11.00   19.0   46.00  168.0\n",
              "2     448.0   22.899554   26.110267   1.0    5.00   11.0   32.00  119.0\n",
              "3     433.0   11.757506   12.666442   1.0    3.00    6.0   15.00   66.0\n",
              "4     442.0    6.407240    4.217633   1.0    3.00    6.0    9.00   28.0\n",
              "5     452.0   19.767699   12.784293   1.0    8.00   19.0   29.00   57.0\n",
              "6     455.0   76.259341   54.745333   1.0   24.50   75.0  118.00  213.0\n",
              "7     455.0  213.116484  159.207044   1.0   63.00  208.0  334.00  596.0\n",
              "8     455.0  362.769231  231.723065   8.0  133.50  392.0  563.50  839.0\n",
              "9     455.0  221.780220   92.099209  14.0  161.00  217.0  294.50  414.0\n",
              "10    455.0  175.092308  101.807629  17.0  106.00  149.0  218.50  539.0\n",
              "11    455.0  210.674725  127.444294  10.0  123.00  183.0  265.50  647.0\n",
              "12    456.0  256.508772  143.881880   3.0  157.00  234.5  332.00  757.0\n",
              "13    456.0  257.787281  149.167185  11.0  154.00  226.5  329.00  729.0\n",
              "14    456.0  243.442982  147.563199  12.0  144.00  212.0  311.25  730.0\n",
              "15    456.0  254.298246  144.235670   7.0  154.00  232.0  331.00  724.0\n",
              "16    456.0  316.372807  145.664786  11.0  211.75  309.5  421.00  783.0\n",
              "17    456.0  468.765351  223.775485  15.0  277.00  480.5  608.50  970.0\n",
              "18    456.0  430.859649  219.908138  23.0  240.75  422.5  564.00  977.0\n",
              "19    456.0  315.278509  156.641732  11.0  190.00  312.5  416.00  743.0\n",
              "20    456.0  228.517544  116.411565  11.0  136.75  224.0  302.00  551.0\n",
              "21    456.0  173.370614   87.629319   6.0  103.50  171.5  230.00  584.0\n",
              "22    456.0  133.576754   69.844495   9.0   80.00  129.0  175.00  502.0\n",
              "23    456.0   89.508772   51.638004   4.0   52.75   80.0  123.00  256.0"
            ],
            "text/html": [
              "\n",
              "  <div id=\"df-83de6c51-759c-4ef7-8f79-5f6c1a5e2f27\">\n",
              "    <div class=\"colab-df-container\">\n",
              "      <div>\n",
              "<style scoped>\n",
              "    .dataframe tbody tr th:only-of-type {\n",
              "        vertical-align: middle;\n",
              "    }\n",
              "\n",
              "    .dataframe tbody tr th {\n",
              "        vertical-align: top;\n",
              "    }\n",
              "\n",
              "    .dataframe thead th {\n",
              "        text-align: right;\n",
              "    }\n",
              "</style>\n",
              "<table border=\"1\" class=\"dataframe\">\n",
              "  <thead>\n",
              "    <tr style=\"text-align: right;\">\n",
              "      <th></th>\n",
              "      <th>count</th>\n",
              "      <th>mean</th>\n",
              "      <th>std</th>\n",
              "      <th>min</th>\n",
              "      <th>25%</th>\n",
              "      <th>50%</th>\n",
              "      <th>75%</th>\n",
              "      <th>max</th>\n",
              "    </tr>\n",
              "    <tr>\n",
              "      <th>hour</th>\n",
              "      <th></th>\n",
              "      <th></th>\n",
              "      <th></th>\n",
              "      <th></th>\n",
              "      <th></th>\n",
              "      <th></th>\n",
              "      <th></th>\n",
              "      <th></th>\n",
              "    </tr>\n",
              "  </thead>\n",
              "  <tbody>\n",
              "    <tr>\n",
              "      <th>0</th>\n",
              "      <td>455.0</td>\n",
              "      <td>55.138462</td>\n",
              "      <td>43.620012</td>\n",
              "      <td>2.0</td>\n",
              "      <td>24.00</td>\n",
              "      <td>41.0</td>\n",
              "      <td>74.50</td>\n",
              "      <td>283.0</td>\n",
              "    </tr>\n",
              "    <tr>\n",
              "      <th>1</th>\n",
              "      <td>454.0</td>\n",
              "      <td>33.859031</td>\n",
              "      <td>34.112105</td>\n",
              "      <td>1.0</td>\n",
              "      <td>11.00</td>\n",
              "      <td>19.0</td>\n",
              "      <td>46.00</td>\n",
              "      <td>168.0</td>\n",
              "    </tr>\n",
              "    <tr>\n",
              "      <th>2</th>\n",
              "      <td>448.0</td>\n",
              "      <td>22.899554</td>\n",
              "      <td>26.110267</td>\n",
              "      <td>1.0</td>\n",
              "      <td>5.00</td>\n",
              "      <td>11.0</td>\n",
              "      <td>32.00</td>\n",
              "      <td>119.0</td>\n",
              "    </tr>\n",
              "    <tr>\n",
              "      <th>3</th>\n",
              "      <td>433.0</td>\n",
              "      <td>11.757506</td>\n",
              "      <td>12.666442</td>\n",
              "      <td>1.0</td>\n",
              "      <td>3.00</td>\n",
              "      <td>6.0</td>\n",
              "      <td>15.00</td>\n",
              "      <td>66.0</td>\n",
              "    </tr>\n",
              "    <tr>\n",
              "      <th>4</th>\n",
              "      <td>442.0</td>\n",
              "      <td>6.407240</td>\n",
              "      <td>4.217633</td>\n",
              "      <td>1.0</td>\n",
              "      <td>3.00</td>\n",
              "      <td>6.0</td>\n",
              "      <td>9.00</td>\n",
              "      <td>28.0</td>\n",
              "    </tr>\n",
              "    <tr>\n",
              "      <th>5</th>\n",
              "      <td>452.0</td>\n",
              "      <td>19.767699</td>\n",
              "      <td>12.784293</td>\n",
              "      <td>1.0</td>\n",
              "      <td>8.00</td>\n",
              "      <td>19.0</td>\n",
              "      <td>29.00</td>\n",
              "      <td>57.0</td>\n",
              "    </tr>\n",
              "    <tr>\n",
              "      <th>6</th>\n",
              "      <td>455.0</td>\n",
              "      <td>76.259341</td>\n",
              "      <td>54.745333</td>\n",
              "      <td>1.0</td>\n",
              "      <td>24.50</td>\n",
              "      <td>75.0</td>\n",
              "      <td>118.00</td>\n",
              "      <td>213.0</td>\n",
              "    </tr>\n",
              "    <tr>\n",
              "      <th>7</th>\n",
              "      <td>455.0</td>\n",
              "      <td>213.116484</td>\n",
              "      <td>159.207044</td>\n",
              "      <td>1.0</td>\n",
              "      <td>63.00</td>\n",
              "      <td>208.0</td>\n",
              "      <td>334.00</td>\n",
              "      <td>596.0</td>\n",
              "    </tr>\n",
              "    <tr>\n",
              "      <th>8</th>\n",
              "      <td>455.0</td>\n",
              "      <td>362.769231</td>\n",
              "      <td>231.723065</td>\n",
              "      <td>8.0</td>\n",
              "      <td>133.50</td>\n",
              "      <td>392.0</td>\n",
              "      <td>563.50</td>\n",
              "      <td>839.0</td>\n",
              "    </tr>\n",
              "    <tr>\n",
              "      <th>9</th>\n",
              "      <td>455.0</td>\n",
              "      <td>221.780220</td>\n",
              "      <td>92.099209</td>\n",
              "      <td>14.0</td>\n",
              "      <td>161.00</td>\n",
              "      <td>217.0</td>\n",
              "      <td>294.50</td>\n",
              "      <td>414.0</td>\n",
              "    </tr>\n",
              "    <tr>\n",
              "      <th>10</th>\n",
              "      <td>455.0</td>\n",
              "      <td>175.092308</td>\n",
              "      <td>101.807629</td>\n",
              "      <td>17.0</td>\n",
              "      <td>106.00</td>\n",
              "      <td>149.0</td>\n",
              "      <td>218.50</td>\n",
              "      <td>539.0</td>\n",
              "    </tr>\n",
              "    <tr>\n",
              "      <th>11</th>\n",
              "      <td>455.0</td>\n",
              "      <td>210.674725</td>\n",
              "      <td>127.444294</td>\n",
              "      <td>10.0</td>\n",
              "      <td>123.00</td>\n",
              "      <td>183.0</td>\n",
              "      <td>265.50</td>\n",
              "      <td>647.0</td>\n",
              "    </tr>\n",
              "    <tr>\n",
              "      <th>12</th>\n",
              "      <td>456.0</td>\n",
              "      <td>256.508772</td>\n",
              "      <td>143.881880</td>\n",
              "      <td>3.0</td>\n",
              "      <td>157.00</td>\n",
              "      <td>234.5</td>\n",
              "      <td>332.00</td>\n",
              "      <td>757.0</td>\n",
              "    </tr>\n",
              "    <tr>\n",
              "      <th>13</th>\n",
              "      <td>456.0</td>\n",
              "      <td>257.787281</td>\n",
              "      <td>149.167185</td>\n",
              "      <td>11.0</td>\n",
              "      <td>154.00</td>\n",
              "      <td>226.5</td>\n",
              "      <td>329.00</td>\n",
              "      <td>729.0</td>\n",
              "    </tr>\n",
              "    <tr>\n",
              "      <th>14</th>\n",
              "      <td>456.0</td>\n",
              "      <td>243.442982</td>\n",
              "      <td>147.563199</td>\n",
              "      <td>12.0</td>\n",
              "      <td>144.00</td>\n",
              "      <td>212.0</td>\n",
              "      <td>311.25</td>\n",
              "      <td>730.0</td>\n",
              "    </tr>\n",
              "    <tr>\n",
              "      <th>15</th>\n",
              "      <td>456.0</td>\n",
              "      <td>254.298246</td>\n",
              "      <td>144.235670</td>\n",
              "      <td>7.0</td>\n",
              "      <td>154.00</td>\n",
              "      <td>232.0</td>\n",
              "      <td>331.00</td>\n",
              "      <td>724.0</td>\n",
              "    </tr>\n",
              "    <tr>\n",
              "      <th>16</th>\n",
              "      <td>456.0</td>\n",
              "      <td>316.372807</td>\n",
              "      <td>145.664786</td>\n",
              "      <td>11.0</td>\n",
              "      <td>211.75</td>\n",
              "      <td>309.5</td>\n",
              "      <td>421.00</td>\n",
              "      <td>783.0</td>\n",
              "    </tr>\n",
              "    <tr>\n",
              "      <th>17</th>\n",
              "      <td>456.0</td>\n",
              "      <td>468.765351</td>\n",
              "      <td>223.775485</td>\n",
              "      <td>15.0</td>\n",
              "      <td>277.00</td>\n",
              "      <td>480.5</td>\n",
              "      <td>608.50</td>\n",
              "      <td>970.0</td>\n",
              "    </tr>\n",
              "    <tr>\n",
              "      <th>18</th>\n",
              "      <td>456.0</td>\n",
              "      <td>430.859649</td>\n",
              "      <td>219.908138</td>\n",
              "      <td>23.0</td>\n",
              "      <td>240.75</td>\n",
              "      <td>422.5</td>\n",
              "      <td>564.00</td>\n",
              "      <td>977.0</td>\n",
              "    </tr>\n",
              "    <tr>\n",
              "      <th>19</th>\n",
              "      <td>456.0</td>\n",
              "      <td>315.278509</td>\n",
              "      <td>156.641732</td>\n",
              "      <td>11.0</td>\n",
              "      <td>190.00</td>\n",
              "      <td>312.5</td>\n",
              "      <td>416.00</td>\n",
              "      <td>743.0</td>\n",
              "    </tr>\n",
              "    <tr>\n",
              "      <th>20</th>\n",
              "      <td>456.0</td>\n",
              "      <td>228.517544</td>\n",
              "      <td>116.411565</td>\n",
              "      <td>11.0</td>\n",
              "      <td>136.75</td>\n",
              "      <td>224.0</td>\n",
              "      <td>302.00</td>\n",
              "      <td>551.0</td>\n",
              "    </tr>\n",
              "    <tr>\n",
              "      <th>21</th>\n",
              "      <td>456.0</td>\n",
              "      <td>173.370614</td>\n",
              "      <td>87.629319</td>\n",
              "      <td>6.0</td>\n",
              "      <td>103.50</td>\n",
              "      <td>171.5</td>\n",
              "      <td>230.00</td>\n",
              "      <td>584.0</td>\n",
              "    </tr>\n",
              "    <tr>\n",
              "      <th>22</th>\n",
              "      <td>456.0</td>\n",
              "      <td>133.576754</td>\n",
              "      <td>69.844495</td>\n",
              "      <td>9.0</td>\n",
              "      <td>80.00</td>\n",
              "      <td>129.0</td>\n",
              "      <td>175.00</td>\n",
              "      <td>502.0</td>\n",
              "    </tr>\n",
              "    <tr>\n",
              "      <th>23</th>\n",
              "      <td>456.0</td>\n",
              "      <td>89.508772</td>\n",
              "      <td>51.638004</td>\n",
              "      <td>4.0</td>\n",
              "      <td>52.75</td>\n",
              "      <td>80.0</td>\n",
              "      <td>123.00</td>\n",
              "      <td>256.0</td>\n",
              "    </tr>\n",
              "  </tbody>\n",
              "</table>\n",
              "</div>\n",
              "      <button class=\"colab-df-convert\" onclick=\"convertToInteractive('df-83de6c51-759c-4ef7-8f79-5f6c1a5e2f27')\"\n",
              "              title=\"Convert this dataframe to an interactive table.\"\n",
              "              style=\"display:none;\">\n",
              "        \n",
              "  <svg xmlns=\"http://www.w3.org/2000/svg\" height=\"24px\"viewBox=\"0 0 24 24\"\n",
              "       width=\"24px\">\n",
              "    <path d=\"M0 0h24v24H0V0z\" fill=\"none\"/>\n",
              "    <path d=\"M18.56 5.44l.94 2.06.94-2.06 2.06-.94-2.06-.94-.94-2.06-.94 2.06-2.06.94zm-11 1L8.5 8.5l.94-2.06 2.06-.94-2.06-.94L8.5 2.5l-.94 2.06-2.06.94zm10 10l.94 2.06.94-2.06 2.06-.94-2.06-.94-.94-2.06-.94 2.06-2.06.94z\"/><path d=\"M17.41 7.96l-1.37-1.37c-.4-.4-.92-.59-1.43-.59-.52 0-1.04.2-1.43.59L10.3 9.45l-7.72 7.72c-.78.78-.78 2.05 0 2.83L4 21.41c.39.39.9.59 1.41.59.51 0 1.02-.2 1.41-.59l7.78-7.78 2.81-2.81c.8-.78.8-2.07 0-2.86zM5.41 20L4 18.59l7.72-7.72 1.47 1.35L5.41 20z\"/>\n",
              "  </svg>\n",
              "      </button>\n",
              "      \n",
              "  <style>\n",
              "    .colab-df-container {\n",
              "      display:flex;\n",
              "      flex-wrap:wrap;\n",
              "      gap: 12px;\n",
              "    }\n",
              "\n",
              "    .colab-df-convert {\n",
              "      background-color: #E8F0FE;\n",
              "      border: none;\n",
              "      border-radius: 50%;\n",
              "      cursor: pointer;\n",
              "      display: none;\n",
              "      fill: #1967D2;\n",
              "      height: 32px;\n",
              "      padding: 0 0 0 0;\n",
              "      width: 32px;\n",
              "    }\n",
              "\n",
              "    .colab-df-convert:hover {\n",
              "      background-color: #E2EBFA;\n",
              "      box-shadow: 0px 1px 2px rgba(60, 64, 67, 0.3), 0px 1px 3px 1px rgba(60, 64, 67, 0.15);\n",
              "      fill: #174EA6;\n",
              "    }\n",
              "\n",
              "    [theme=dark] .colab-df-convert {\n",
              "      background-color: #3B4455;\n",
              "      fill: #D2E3FC;\n",
              "    }\n",
              "\n",
              "    [theme=dark] .colab-df-convert:hover {\n",
              "      background-color: #434B5C;\n",
              "      box-shadow: 0px 1px 3px 1px rgba(0, 0, 0, 0.15);\n",
              "      filter: drop-shadow(0px 1px 2px rgba(0, 0, 0, 0.3));\n",
              "      fill: #FFFFFF;\n",
              "    }\n",
              "  </style>\n",
              "\n",
              "      <script>\n",
              "        const buttonEl =\n",
              "          document.querySelector('#df-83de6c51-759c-4ef7-8f79-5f6c1a5e2f27 button.colab-df-convert');\n",
              "        buttonEl.style.display =\n",
              "          google.colab.kernel.accessAllowed ? 'block' : 'none';\n",
              "\n",
              "        async function convertToInteractive(key) {\n",
              "          const element = document.querySelector('#df-83de6c51-759c-4ef7-8f79-5f6c1a5e2f27');\n",
              "          const dataTable =\n",
              "            await google.colab.kernel.invokeFunction('convertToInteractive',\n",
              "                                                     [key], {});\n",
              "          if (!dataTable) return;\n",
              "\n",
              "          const docLinkHtml = 'Like what you see? Visit the ' +\n",
              "            '<a target=\"_blank\" href=https://colab.research.google.com/notebooks/data_table.ipynb>data table notebook</a>'\n",
              "            + ' to learn more about interactive tables.';\n",
              "          element.innerHTML = '';\n",
              "          dataTable['output_type'] = 'display_data';\n",
              "          await google.colab.output.renderOutput(dataTable, element);\n",
              "          const docLink = document.createElement('div');\n",
              "          docLink.innerHTML = docLinkHtml;\n",
              "          element.appendChild(docLink);\n",
              "        }\n",
              "      </script>\n",
              "    </div>\n",
              "  </div>\n",
              "  "
            ]
          },
          "metadata": {},
          "execution_count": 8
        }
      ]
    },
    {
      "cell_type": "markdown",
      "source": [
        "**Análisis de los datos**\n",
        "\n",
        "Realizando un análisis de datos, se puede observar que los picos máximos de arriendo de biciletas se dan a las 8 de la mañana y a las 5 y 6 de la tarde, esto se puede relacionar a que las personas arriendan su medio de transporte para dirigirse al trabajo, escuela, universidad, etc. que generalmente los horarios son de 8am-5pm  o de 8am-6pm. El máximo ocurre a las 6:00p.m. con un total de 977 bicicletas arrendadas.Por otro lado en promedio 362 bicicletas son arrendadas a las 8am, mientras que a las 5 y 6 de la tarde en promedio se arriendan 468 y 430 bicicletas respectivamente."
      ],
      "metadata": {
        "id": "ekswU2hgALY3"
      }
    },
    {
      "cell_type": "markdown",
      "metadata": {
        "id": "AU6pEJrhwBHr"
      },
      "source": [
        "### Punto 2 - Análisis de gráficos\n",
        "\n",
        "Primero ejecute la celda 2.1 y asegúrese de comprender el código y el resultado. Luego, en cada una de celdas 2.2 y 2.3 escriba un código que genere una gráfica del número de bicicletas rentadas promedio para cada valor de la variable \"hour\" (hora) cuando la variable \"season\" es igual a 1 (invierno) e igual a 3 (verano), respectivamente. Analice y escriba sus hallazgos."
      ]
    },
    {
      "cell_type": "code",
      "execution_count": null,
      "metadata": {
        "id": "A8qEUk0fwBHr",
        "outputId": "be63c4c3-6028-4b05-cea7-a0f30aebd5ca",
        "colab": {
          "base_uri": "https://localhost:8080/",
          "height": 472
        }
      },
      "outputs": [
        {
          "output_type": "execute_result",
          "data": {
            "text/plain": [
              "<Axes: xlabel='hour'>"
            ]
          },
          "metadata": {},
          "execution_count": 33
        },
        {
          "output_type": "display_data",
          "data": {
            "text/plain": [
              "<Figure size 640x480 with 1 Axes>"
            ],
            "image/png": "[encoded data removed]"
          },
          "metadata": {}
        }
      ],
      "source": [
        "# Celda 2.1 - rentas promedio para cada valor de la variable \"hour\"\n",
        "bikes.groupby('hour').total.mean().plot(ylim=(0, 600))"
      ]
    },
    {
      "cell_type": "code",
      "execution_count": null,
      "metadata": {
        "id": "bPl0k_C7wBHs",
        "outputId": "5b5f8e58-a116-4b85-e6c8-69912df3536d",
        "colab": {
          "base_uri": "https://localhost:8080/",
          "height": 472
        }
      },
      "outputs": [
        {
          "output_type": "execute_result",
          "data": {
            "text/plain": [
              "<Axes: xlabel='hour'>"
            ]
          },
          "metadata": {},
          "execution_count": 31
        },
        {
          "output_type": "display_data",
          "data": {
            "text/plain": [
              "<Figure size 640x480 with 1 Axes>"
            ],
            "image/png": "[encoded data removed]"
          },
          "metadata": {}
        }
      ],
      "source": [
        "# Celda 2.2 - \"season\"=1 escriba su código y hallazgos \n",
        "bikes[bikes.season==1].groupby('hour').total.mean().plot(ylim=(0, 600))\n"
      ]
    },
    {
      "cell_type": "code",
      "execution_count": null,
      "metadata": {
        "id": "T-BqjTe-wBHs",
        "outputId": "4a1195eb-7bbe-4d11-980b-d183dedb9e63",
        "colab": {
          "base_uri": "https://localhost:8080/",
          "height": 472
        }
      },
      "outputs": [
        {
          "output_type": "execute_result",
          "data": {
            "text/plain": [
              "<Axes: xlabel='hour'>"
            ]
          },
          "metadata": {},
          "execution_count": 30
        },
        {
          "output_type": "display_data",
          "data": {
            "text/plain": [
              "<Figure size 640x480 with 1 Axes>"
            ],
            "image/png": "[encoded data removed]"
          },
          "metadata": {}
        }
      ],
      "source": [
        "# Celda 2.3 - \"season\"=3 escriba su código y hallazgos \n",
        "bikes[bikes.season==3].groupby('hour').total.mean().plot(ylim=(0, 600))"
      ]
    },
    {
      "cell_type": "code",
      "source": [
        "# Gráfica 1: season=3\n",
        "plt.plot(bikes[bikes.season==3].groupby('hour').total.mean(), color='blue', label='Season 3:Summer')\n",
        "\n",
        "# Gráfica 2: season=1\n",
        "plt.plot(bikes[bikes.season==1].groupby('hour').total.mean(), color='red', label='Season 1:Winter')\n",
        "\n",
        "# Gráfica 3: Todas las estaciones\n",
        "plt.plot(bikes.groupby('hour').total.mean(), color='green', label='All Seasons')\n",
        "\n",
        "# Configuración de la leyenda y el eje y\n",
        "plt.legend()\n",
        "plt.ylim(0, 600)\n",
        "\n",
        "# Mostrar la gráfica resultante\n",
        "plt.show()"
      ],
      "metadata": {
        "id": "xFFPtQRI-EKQ",
        "outputId": "c5a98033-fc2a-49e2-a6eb-eb3490f5832d",
        "colab": {
          "base_uri": "https://localhost:8080/",
          "height": 435
        }
      },
      "execution_count": 42,
      "outputs": [
        {
          "output_type": "display_data",
          "data": {
            "text/plain": [
              "<Figure size 640x480 with 1 Axes>"
            ],
            "image/png": "[encoded data removed]"
          },
          "metadata": {}
        }
      ]
    },
    {
      "cell_type": "markdown",
      "source": [
        "**Análisis de datos**\n",
        "\n",
        "Se puede observar en la gráfica del promedio de número de bicicletas rentadas para cada hora en cada estacionalidad, un comportamiento similar, con los mismos picos de horas de arrendamiento tanto en verano, en invierno y en el promedio de todas las estaciones, lo unico que varia es la cantidad de bicicletas arrendadas. En verano se tiene la mayor cantidad de bicicletas en arriendo, mientras que en invierno se encuentra el promedio por debajo del promedio total de todas las estacionalidades. El promedio de bicicletas que son arrendadas a las 4 am para todas las estacionalidades es muy bajo. Por esta razón, se reafirma la hipotesis de que los picos ocurren a las 8 am y 5-6 pm debido a que es el momento en donde las personas salen de sus casas y vuelven de sus trabajos, escuelas, universidades, etc."
      ],
      "metadata": {
        "id": "5M7Z2zIo-Dcn"
      }
    },
    {
      "cell_type": "markdown",
      "metadata": {
        "id": "9xxrqD4XwBHs"
      },
      "source": [
        "### Punto 3 - Regresión lineal\n",
        "En la celda 3 ajuste un modelo de regresión lineal a todo el conjunto de datos, utilizando \"total\" como variable de respuesta y \"season\" y \"hour\" como las únicas variables predictoras, teniendo en cuenta que la variable \"season\" es categórica. Luego, imprima los coeficientes e interprételos. ¿Cuáles son las limitaciones de la regresión lineal en este caso?"
      ]
    },
    {
      "cell_type": "code",
      "source": [
        "#Celda 3\n",
        "from sklearn.model_selection import train_test_split\n",
        "from sklearn.preprocessing import OneHotEncoder\n",
        "\n",
        "#Separamos los datos de Season, Hour y Total\n",
        "data = bikes[['season','hour','total']]\n",
        "\n",
        "# Ahora debemos convertir la variable Season, para ello primero debemos crear una instancia de OneHotEncoder\n",
        "encoder = OneHotEncoder(sparse=False)\n",
        "\n",
        "# Luego realizamos la codificación One-Hot de la variable \"season\"\n",
        "season_encoded = encoder.fit_transform(data['season'].values.reshape(-1, 1))\n",
        "\n",
        "data[[\"winter\",\"spring\",\"summer\",\"fall\"]] = season_encoded\n",
        "data = data[[\"winter\",\"spring\",\"summer\",\"fall\",\"hour\",\"total\"]]\n",
        "\n",
        "\n",
        "XTrain, XTest, yTrain, yTest = train_test_split(data.loc[:,data.columns != 'total'], data['total'],test_size=0.33, random_state=0)"
      ],
      "metadata": {
        "id": "W3M9yOEETN1y"
      },
      "execution_count": 61,
      "outputs": []
    },
    {
      "cell_type": "code",
      "source": [
        "from sklearn.metrics import mean_squared_error, roc_curve, auc\n",
        "\n",
        "# Crear un modelo de regresión lineal\n",
        "model = LinearRegression()\n",
        "\n",
        "# Entrenar el modelo con los datos de entrenamiento\n",
        "model.fit(XTrain, yTrain)\n",
        "\n",
        "# Realizar las predicciones sobre los datos de entrenamiento y evaluación\n",
        "y_train_pred = model.predict(XTrain)\n",
        "y_test_pred = model.predict(XTest)\n",
        "\n",
        "# Calcular el MSE para los datos de entrenamiento y evaluación\n",
        "mse_train = mean_squared_error(yTrain, y_train_pred)\n",
        "mse_test = mean_squared_error(yTest, y_test_pred)\n",
        "\n",
        "print(\"MSE para datos de entrenamiento:\", mse_train)\n",
        "print(\"MSE para datos de evaluación:\", mse_test)\n",
        "\n",
        "# Veamos los coeficienetes obtenidos, En nuestro caso, serán la Tangente\n",
        "print('Coeficientes: ', model.coef_)\n",
        "# Este es el valor donde corta el eje Y (en X=0)\n",
        "print('Variable Independiente: ', model.intercept_)\n"
      ],
      "metadata": {
        "id": "hiATNRZ8YpW6",
        "outputId": "1eb6315a-148f-4da3-8b9c-4acfde90348b",
        "colab": {
          "base_uri": "https://localhost:8080/"
        }
      },
      "execution_count": 72,
      "outputs": [
        {
          "output_type": "stream",
          "name": "stdout",
          "text": [
            "MSE para datos de entrenamiento: 25406.128093199288\n",
            "MSE para datos de evaluación: 25644.421108938277\n",
            "Coeficientes:  [-76.79345561  24.11431232  42.2252086   10.45393469  10.62873885]\n",
            "Variable Independiente:  67.23038434133244\n"
          ]
        }
      ]
    },
    {
      "cell_type": "code",
      "source": [
        "# evaluación del modelo\n",
        "print(\"Root Mean squared error: %.2f\" % np.sqrt(np.mean((model.predict(XTrain) - yTrain) ** 2)))"
      ],
      "metadata": {
        "id": "t4f88XZoaPpn",
        "outputId": "c657de9c-d3e6-4c6c-9ec4-cc7be4b16d05",
        "colab": {
          "base_uri": "https://localhost:8080/"
        }
      },
      "execution_count": 74,
      "outputs": [
        {
          "output_type": "stream",
          "name": "stdout",
          "text": [
            "Root Mean squared error: 159.39\n"
          ]
        }
      ]
    },
    {
      "cell_type": "markdown",
      "source": [
        "**Análisis de datos**\n",
        "\n",
        "winter\tspring\tsummer\tfall\thour\ttotal\n",
        "\n",
        "En este caso, las limitaciones de la regresión lineal para este caso es que asume que la relación entre las variables predictoras y la variable de respuesta es lineal. Sin embargo, esta suposición para el caso de la variable categórica \"season\", la relación con la variable de respuesta se puede ver en la gráfica que no es lineal. Sin embargo, podemos sacar algunas observaciones de los resultados:\n",
        "\n",
        "El modelo quedo de la siguiente forma:\n",
        "\n",
        "*-76.79345561 (winter) + 24.11431232 (spring)  + 42.2252086 (summer) +  10.45393469 (fall) + 10.62873885 (hour) +  67.23 = Total*\n",
        "\n",
        "\n",
        "Teniendo en cuenta los análisis que se realizaron anteriormente, la variable Winter y Total eran inversamente proporcional tal como se percibe en el modelo en donde desmuestra que el arriendo de bicicletas disminuye en invierno. Por otro lado, para la variable Summer son directamente proporcional y tiene el coeficiente que mayor impacta el total por lo cual en Verano mayor arriendos de bicicletas se tendrán. "
      ],
      "metadata": {
        "id": "09sXX0KoaGTn"
      }
    },
    {
      "cell_type": "markdown",
      "metadata": {
        "id": "WAVlU-WkwBHt"
      },
      "source": [
        "### Punto 4 - Árbol de decisión manual\n",
        "En la celda 4 cree un árbol de decisiones para pronosticar la variable \"total\" iterando **manualmente** sobre las variables \"hour\" y  \"season\". El árbol debe tener al menos 6 nodos finales."
      ]
    },
    {
      "cell_type": "code",
      "execution_count": null,
      "metadata": {
        "id": "wbHT4YHBwBHt"
      },
      "outputs": [],
      "source": [
        "# Celda 4\n"
      ]
    },
    {
      "cell_type": "markdown",
      "metadata": {
        "id": "turtGdJQwBHu"
      },
      "source": [
        "### Punto 5 - Árbol de decisión con librería\n",
        "En la celda 5 entrene un árbol de decisiones con la **librería sklearn**, usando las variables predictoras \"season\" y \"hour\" y calibre los parámetros que considere conveniente para obtener un mejor desempeño. Recuerde dividir los datos en conjuntos de entrenamiento y validación para esto. Comente el desempeño del modelo con alguna métrica de desempeño de modelos de regresión y compare desempeño con el modelo del punto 3."
      ]
    },
    {
      "cell_type": "code",
      "execution_count": null,
      "metadata": {
        "id": "8wuAvEpOwBHu"
      },
      "outputs": [],
      "source": [
        "# Celda 5\n"
      ]
    },
    {
      "cell_type": "markdown",
      "metadata": {
        "id": "eTMxG5YHwBHu"
      },
      "source": [
        "## Parte B - Métodos de ensamblajes\n",
        "En esta parte del taller se usará el conjunto de datos de Popularidad de Noticias Online. El objetivo es predecir si la notica es popular o no, la popularidad está dada por la cantidad de reacciones en redes sociales. Para más detalles puede visitar el siguiente enlace: [datos](https://archive.ics.uci.edu/ml/datasets/online+news+popularity)."
      ]
    },
    {
      "cell_type": "markdown",
      "metadata": {
        "id": "VrU4HlXwwBHv"
      },
      "source": [
        "### Datos popularidad de noticias"
      ]
    },
    {
      "cell_type": "code",
      "execution_count": null,
      "metadata": {
        "id": "Hysn3etowBHv"
      },
      "outputs": [],
      "source": [
        "# Lectura de la información de archivo .csv\n",
        "df = pd.read_csv('https://raw.githubusercontent.com/davidzarruk/MIAD_ML_NLP_2023/main/datasets/mashable.csv', index_col=0)\n",
        "df.head()"
      ]
    },
    {
      "cell_type": "code",
      "execution_count": null,
      "metadata": {
        "id": "dyocXcS1wBHv"
      },
      "outputs": [],
      "source": [
        "# Definición variable de interes y variables predictoras\n",
        "X = df.drop(['url', 'Popular'], axis=1)\n",
        "y = df['Popular']\n",
        "y.mean()"
      ]
    },
    {
      "cell_type": "code",
      "execution_count": null,
      "metadata": {
        "id": "TJanmfRzwBHw"
      },
      "outputs": [],
      "source": [
        "# División de la muestra en set de entrenamiento y prueba\n",
        "from sklearn.model_selection import train_test_split\n",
        "X_train, X_test, y_train, y_test = train_test_split(X, y, random_state=1)"
      ]
    },
    {
      "cell_type": "markdown",
      "metadata": {
        "id": "VJIke0DDwBHw"
      },
      "source": [
        "### Punto 6 - Árbol de decisión y regresión logística\n",
        "En la celda 6 construya un árbol de decisión y una regresión logística. Para el árbol calibre al menos un parámetro y evalúe el desempeño de cada modelo usando las métricas de Accuracy y F1-Score."
      ]
    },
    {
      "cell_type": "code",
      "execution_count": null,
      "metadata": {
        "id": "xHC8uwPhwBHw"
      },
      "outputs": [],
      "source": [
        "# Celda 6\n"
      ]
    },
    {
      "cell_type": "markdown",
      "metadata": {
        "id": "WHmUcqMMwBHw"
      },
      "source": [
        "### Punto 7 - Votación Mayoritaria\n",
        "En la celda 7 elabore un esamble con la metodología de **Votación mayoritaria** compuesto por 300 muestras bagged para cada uno de los siguientes escenarios:\n",
        "\n",
        "-100 árboles de decisión donde max_depth tome un valor de su elección\\\n",
        "-100 árboles de decisión donde min_samples_leaf tome un valor de su elección\\\n",
        "-100 regresiones logísticas\n",
        "\n",
        "Evalúe cada uno de los tres modelos de manera independiente utilizando las métricas de Accuracy y F1-Score, luego evalúe el ensamble de modelos y compare los resultados. "
      ]
    },
    {
      "cell_type": "code",
      "execution_count": null,
      "metadata": {
        "id": "hoARb63ZwBHx"
      },
      "outputs": [],
      "source": [
        "# Celda 7\n"
      ]
    },
    {
      "cell_type": "markdown",
      "metadata": {
        "id": "TIaqIWv5wBHx"
      },
      "source": [
        "### Punto 8 - Votación Ponderada\n",
        "En la celda 8 elabore un ensamble con la metodología de **Votación ponderada** compuesto por 300 muestras bagged para los mismos tres escenarios del punto 7. Evalúe los modelos utilizando las métricas de Accuracy y F1-Score"
      ]
    },
    {
      "cell_type": "code",
      "execution_count": null,
      "metadata": {
        "id": "L_-Oa4EzwBHx"
      },
      "outputs": [],
      "source": [
        "# Celda 8\n"
      ]
    },
    {
      "cell_type": "markdown",
      "metadata": {
        "id": "nKijnAY7wBHy"
      },
      "source": [
        "### Punto 9 - Comparación y análisis de resultados\n",
        "En la celda 9 comente sobre los resultados obtenidos con las metodologías usadas en los puntos 7 y 8, compare los resultados y enuncie posibles ventajas o desventajas de cada una de ellas."
      ]
    },
    {
      "cell_type": "code",
      "execution_count": null,
      "metadata": {
        "id": "Dyn6-949wBHy"
      },
      "outputs": [],
      "source": [
        "# Celda 9"
      ]
    }
  ],
  "metadata": {
    "kernelspec": {
      "display_name": "Python 3 (ipykernel)",
      "language": "python",
      "name": "python3"
    },
    "language_info": {
      "codemirror_mode": {
        "name": "ipython",
        "version": 3
      },
      "file_extension": ".py",
      "mimetype": "text/x-python",
      "name": "python",
      "nbconvert_exporter": "python",
      "pygments_lexer": "ipython3",
      "version": "3.9.12"
    },
    "colab": {
      "provenance": [],
      "include_colab_link": true
    }
  },
  "nbformat": 4,
  "nbformat_minor": 0
}